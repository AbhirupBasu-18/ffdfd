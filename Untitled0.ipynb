{
  "nbformat": 4,
  "nbformat_minor": 0,
  "metadata": {
    "colab": {
      "provenance": []
    },
    "kernelspec": {
      "name": "python3",
      "display_name": "Python 3"
    },
    "language_info": {
      "name": "python"
    }
  },
  "cells": [
    {
      "cell_type": "code",
      "execution_count": null,
      "metadata": {
        "colab": {
          "base_uri": "https://localhost:8080/"
        },
        "id": "kQjbokoHDy3S",
        "outputId": "390fa47d-2170-41a0-b5fe-48c2c7ab43e6"
      },
      "outputs": [
        {
          "output_type": "stream",
          "name": "stdout",
          "text": [
            "10\n"
          ]
        }
      ],
      "source": [
        "a=10;\n",
        "print(a);"
      ]
    },
    {
      "cell_type": "markdown",
      "source": [],
      "metadata": {
        "id": "8LyXfONwEBpU"
      }
    },
    {
      "cell_type": "code",
      "source": [
        "a=10\n"
      ],
      "metadata": {
        "id": "WyANWVUMEB9V"
      },
      "execution_count": null,
      "outputs": []
    },
    {
      "cell_type": "code",
      "source": [
        "## markdown"
      ],
      "metadata": {
        "id": "QqLQmUgJMIhG"
      },
      "execution_count": null,
      "outputs": []
    },
    {
      "cell_type": "code",
      "source": [
        "#hi\n",
        "a=10\n",
        "print(a)"
      ],
      "metadata": {
        "id": "CjjmUosTMMpw",
        "colab": {
          "base_uri": "https://localhost:8080/"
        },
        "outputId": "a0bcd16b-0f49-448f-cd2d-2592dc21e708"
      },
      "execution_count": 2,
      "outputs": [
        {
          "output_type": "stream",
          "name": "stdout",
          "text": [
            "10\n"
          ]
        }
      ]
    },
    {
      "cell_type": "code",
      "source": [
        "a=10"
      ],
      "metadata": {
        "id": "L3Xnd6jCYzq_"
      },
      "execution_count": 4,
      "outputs": []
    },
    {
      "cell_type": "code",
      "source": [
        "a"
      ],
      "metadata": {
        "colab": {
          "base_uri": "https://localhost:8080/"
        },
        "id": "H0zHkhHAY1_O",
        "outputId": "4a039054-607f-4dd6-d8e5-d28a208b07eb"
      },
      "execution_count": 5,
      "outputs": [
        {
          "output_type": "execute_result",
          "data": {
            "text/plain": [
              "10"
            ]
          },
          "metadata": {},
          "execution_count": 5
        }
      ]
    },
    {
      "cell_type": "code",
      "source": [
        "##markdown\n",
        "hi my name is abhirup\n"
      ],
      "metadata": {
        "colab": {
          "base_uri": "https://localhost:8080/",
          "height": 141
        },
        "id": "va0KTKpVY3Ca",
        "outputId": "749da397-d5df-456d-8528-ae8ebcdf7b20"
      },
      "execution_count": 6,
      "outputs": [
        {
          "output_type": "error",
          "ename": "SyntaxError",
          "evalue": "ignored",
          "traceback": [
            "\u001b[0;36m  File \u001b[0;32m\"<ipython-input-6-dbd7bdbe940d>\"\u001b[0;36m, line \u001b[0;32m2\u001b[0m\n\u001b[0;31m    hi my name is abhirup\u001b[0m\n\u001b[0m       ^\u001b[0m\n\u001b[0;31mSyntaxError\u001b[0m\u001b[0;31m:\u001b[0m invalid syntax\n"
          ]
        }
      ]
    },
    {
      "cell_type": "code",
      "source": [],
      "metadata": {
        "id": "L2odhX-uY9ak"
      },
      "execution_count": null,
      "outputs": []
    }
  ]
}